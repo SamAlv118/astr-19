{
 "cells": [
  {
   "cell_type": "code",
   "execution_count": 98,
   "id": "eaff57da",
   "metadata": {
    "vscode": {
     "languageId": "plaintext"
    }
   },
   "outputs": [],
   "source": [
    "from math import factorial\n",
    "from math import pi\n",
    "from numpy import sum\n",
    "def sin(n):\n",
    "    a_n = []\n",
    "    for power in range(10):\n",
    "        a_n.append(((-1)**power)*(n**(2*power+1))/factorial(2*power+1))\n",
    "    return sum(a_n)"
   ]
  },
  {
   "cell_type": "code",
   "execution_count": 99,
   "id": "20bab301",
   "metadata": {
    "vscode": {
     "languageId": "plaintext"
    }
   },
   "outputs": [],
   "source": [
    "from math import factorial \n",
    "from math import pi\n",
    "from numpy import sum\n",
    "def cos(n):\n",
    "    a_n = []\n",
    "    for power in range(10):\n",
    "        a_n.append(((-1)**power)*(n**(2*power)/factorial(2*power)))\n",
    "    return sum(a_n)"
   ]
  },
  {
   "cell_type": "code",
   "execution_count": 100,
   "id": "abbb4268",
   "metadata": {
    "vscode": {
     "languageId": "plaintext"
    }
   },
   "outputs": [],
   "source": [
    "from astropy.table import Table\n",
    "from math import pi\n",
    "\n",
    "def SinAndCos():\n",
    "        x1 = 0\n",
    "        x1List = []\n",
    "        sinList = []\n",
    "        while x1 < (2*pi):\n",
    "                x1List.append(x1)\n",
    "                sinList.append(sin(x1))\n",
    "                x1 += (2*pi)/1000\n",
    "        #data = Table([x1List,sinList] , names = [\"x\", \"sin(x)\"])\n",
    "        #print(data)\n",
    "\n",
    "        x2 = 0\n",
    "        x2List = []\n",
    "        cosList = []\n",
    "        while x2 < (2*pi):\n",
    "                x2List.append(x2)\n",
    "                cosList.append(cos(x2))\n",
    "                x2 += (2*pi)/1000\n",
    "        result = [x1List, sinList, cosList]\n",
    "        return result\n",
    "        #data = Table([x2List,cosList] , names = [\"x\", \"cos(x)\"])\n",
    "        #print(data)\n"
   ]
  },
  {
   "cell_type": "code",
   "execution_count": 101,
   "id": "b0f098bb-1a5b-4733-982d-40e281ba7c63",
   "metadata": {},
   "outputs": [
    {
     "name": "stdout",
     "output_type": "stream",
     "text": [
      "x values:\n",
      "----------------------\n",
      "0\n",
      "0.006283185307179587\n",
      "0.012566370614359173\n",
      "0.01884955592153876\n",
      "0.025132741228718346\n",
      "0.031415926535897934\n",
      "0.03769911184307752\n",
      "0.0439822971502571\n",
      "0.050265482457436686\n",
      "0.05654866776461627\n",
      "sin(x) values:\n",
      "----------------------\n",
      "0.0\n",
      "0.006283143965558951\n",
      "0.012566039883352607\n",
      "0.018848439715408175\n",
      "0.02513009544333748\n",
      "0.03141075907812829\n",
      "0.03769018266993454\n",
      "0.043968118317864895\n",
      "0.05024431817976955\n",
      "0.05651853448202451\n",
      "cos(x) values:\n",
      "----------------------\n",
      "1.0\n",
      "0.9999802608561371\n",
      "0.9999210442038161\n",
      "0.9998223523808091\n",
      "0.9996841892832999\n",
      "0.9995065603657315\n",
      "0.9992894726405892\n",
      "0.9990329346781247\n",
      "0.9987369566060175\n",
      "0.998401550108975\n"
     ]
    }
   ],
   "source": [
    "def main():\n",
    "    trigVals = SinAndCos()\n",
    "    print(\"x values:\\n----------------------\")\n",
    "    for xVal in range(10):\n",
    "        print(trigVals[0][xVal])\n",
    "    print(\"sin(x) values:\\n----------------------\")    \n",
    "    for sinCalc in range(10):\n",
    "        print(trigVals[1][sinCalc])\n",
    "    print(\"cos(x) values:\\n----------------------\")\n",
    "    for cosCalc in range(10):\n",
    "        print(trigVals[2][cosCalc])\n",
    "\n",
    "if __name__ == \"__main__\":    \n",
    "    main()"
   ]
  }
 ],
 "metadata": {
  "kernelspec": {
   "display_name": "Python 3 (ipykernel)",
   "language": "python",
   "name": "python3"
  },
  "language_info": {
   "codemirror_mode": {
    "name": "ipython",
    "version": 3
   },
   "file_extension": ".py",
   "mimetype": "text/x-python",
   "name": "python",
   "nbconvert_exporter": "python",
   "pygments_lexer": "ipython3",
   "version": "3.13.7"
  }
 },
 "nbformat": 4,
 "nbformat_minor": 5
}
